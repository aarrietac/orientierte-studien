{
 "cells": [
  {
   "cell_type": "code",
   "execution_count": 1,
   "metadata": {
    "collapsed": true
   },
   "outputs": [],
   "source": [
    "from __future__ import division\n",
    "from cmath import sqrt, pi"
   ]
  },
  {
   "cell_type": "markdown",
   "metadata": {},
   "source": [
    "**1. Aufgabe (2 Punkte)**\n",
    "\n",
    "The inertia of the wheel is $\\Theta=1.5\\; kgm^{2}$. The undeformed tire radius is $r_{o}=0.375\\; m$. The longitudinal tire stiffness and damper are $c_{x}=250000\\; N/m$ and $d_{x}=800\\; N/(m/s)$ respectively.\n",
    "\n",
    "Calculate the natural frequency $f$ in $Hz$ and the dimensionless damper parameter $\\zeta$ or the Lehr damper $D_{L}=-\\textrm{Real}(\\lambda)/|\\lambda|$ when the wheel center's velocity is $v=80\\; km/h$ on a plane road and without sliding. Furthermore, the tire dynamic radius are approximately equal: $r_{S}=r_{D}=r_{0}$."
   ]
  },
  {
   "cell_type": "code",
   "execution_count": 2,
   "metadata": {
    "collapsed": true
   },
   "outputs": [],
   "source": [
    "# Wheel dynamic variables\n",
    "Theta = 1.5     # [kg*m²]\n",
    "vx = 80.0/3.6   # [m/s]\n",
    "vN = 0.01       # fictitious velocity\n",
    "cx = 250000.0   # [N/m]\n",
    "dx = 800.0      # [N/(m/s)]\n",
    "r0 = 0.375      # [m]\n",
    "dfx0 = 150000.0 # [N/m]"
   ]
  },
  {
   "cell_type": "markdown",
   "metadata": {},
   "source": [
    "**Solution**\n",
    "\n",
    "The wheel dynamics is described in chapter 4 of the book. Here, two studies are established: Steady-State\\textbf{ }tire forces and the dynamic tire forces. In the first case, the longitudinal force $F_{x}$ works in a linear region ($s_{x}\\ll1$) and therefore,\n",
    "in braking or standstill maneuvers ($v_{x}=0$), the eigenvalue $\\lambda$ depends of the fictitious velocity $v_{N}$. In the second case, the longitudinal force $F_{x}$ works in a non linear region, and is extended to first-order dynamic tire model. Then, the second-order\n",
    "differential equations that describe the wheel dynamic is defined as:\n",
    "\n",
    "$$\n",
    "\\left(\\frac{|v|d_{x}}{dF_{x}^{0}}+1\\right)\\frac{\\Theta}{r_{\\scriptscriptstyle S}r_{\\scriptscriptstyle D}}\\ddot{x}_{e}+\\left(d_{x}+\\frac{|v|c_{x}\\Theta}{dF_{x}^{0}r_{\\scriptscriptstyle S}r_{\\scriptscriptstyle D}}\\right)\\dot{x}_{e}+c_{x}x_{e}=0\n",
    "$$\n",
    "\n",
    "where $v=v_{x}+v_{N}$ was introduced in addition. This is like a mass-spring-damper system. Therefore, is straightforward to obtain the eigenvalues.\n",
    "\n",
    "$$\n",
    "\\lambda_{1,2}=-\\frac{d}{2m}\\pm\\sqrt{\\left(\\frac{d}{2m}\\right)^{2}-\\frac{c}{m}}\n",
    "$$"
   ]
  },
  {
   "cell_type": "code",
   "execution_count": 3,
   "metadata": {
    "collapsed": false
   },
   "outputs": [],
   "source": [
    "# Mass-spring-damper system coefficients\n",
    "v = vx + vN\n",
    "m = (v*dx/dfx0 + 1)*Theta/(r0**2)\n",
    "d = dx + v*cx*Theta/(dfx0*r0**2)\n",
    "c = cx\n",
    "\n",
    "# Eigenvalues\n",
    "la1 = -d/(2*m) + sqrt( (d/(2*m))**2 - c/m )\n",
    "la2 = -d/(2*m) - sqrt( (d/(2*m))**2 - c/m )"
   ]
  },
  {
   "cell_type": "markdown",
   "metadata": {},
   "source": [
    "Applying this equation, we calculated the frequency ($Hz$) of the wheel dynamics, i.e., the imaginary part of the eigenvalue:\n",
    "\n",
    "$$\n",
    "f=\\frac{Imag(\\lambda)}{2\\pi}\n",
    "$$"
   ]
  },
  {
   "cell_type": "code",
   "execution_count": 4,
   "metadata": {
    "collapsed": false
   },
   "outputs": [
    {
     "name": "stdout",
     "output_type": "stream",
     "text": [
      "Frequency [Hz]: 21.614779523138456\n"
     ]
    }
   ],
   "source": [
    "freq = la1.imag/(2*pi)  # [Hz]\n",
    "print ('Frequency [Hz]: {}'.format(freq))"
   ]
  },
  {
   "cell_type": "markdown",
   "metadata": {},
   "source": [
    "The damping ratio is calculated as follows:\n",
    "\n",
    "$$\n",
    "\\zeta = \\frac{d}{2\\sqrt{cm}}\n",
    "$$"
   ]
  },
  {
   "cell_type": "code",
   "execution_count": 5,
   "metadata": {
    "collapsed": false
   },
   "outputs": [
    {
     "name": "stdout",
     "output_type": "stream",
     "text": [
      "Damping ratio [-]: 0.34602592192637677\n"
     ]
    }
   ],
   "source": [
    "dratio = d/(2*sqrt(c*m))\n",
    "print ('Damping ratio [-]: {}'.format(dratio.real))"
   ]
  },
  {
   "cell_type": "markdown",
   "metadata": {},
   "source": [
    "Finally, the Lehr damper is defined as:\n",
    "\n",
    "$$\n",
    "D_{L}=-\\frac{Real(\\lambda)}{|\\lambda|}\n",
    "$$"
   ]
  },
  {
   "cell_type": "code",
   "execution_count": 6,
   "metadata": {
    "collapsed": false
   },
   "outputs": [
    {
     "name": "stdout",
     "output_type": "stream",
     "text": [
      "Lehr damper [-]: 0.34602592192637677\n"
     ]
    }
   ],
   "source": [
    "lehr = -la1.real/abs(la1)\n",
    "print ('Lehr damper [-]: {}'.format(lehr))"
   ]
  },
  {
   "cell_type": "markdown",
   "metadata": {},
   "source": [
    "**2. Aufgabe (4 Punkte)**\n",
    "\n",
    "The distance between the vehicle axis is $a=2.8 \\; m$ and the track width is $s=1.6 \\; m$. The center of gravity is located in the longitudinal axis and at the height $h=0.8 \\; m$ above the ground. The static loads at the front and rear axle are $F_{zF}=12000 \\; N$ and $F_{zR}=15000 \\; N$ respectively. The braking circuit is designed redundantly.\n",
    "\n",
    "Which deceleration the vehicle reaches during emergency braking when the brake line pressure exploit and assume that the adhesion coefficiente is $\\mu = 1$?\n",
    "\n",
    "How big is the yaw moment?"
   ]
  },
  {
   "cell_type": "code",
   "execution_count": 7,
   "metadata": {
    "collapsed": true
   },
   "outputs": [],
   "source": [
    "# Vehicle parameters\n",
    "a = 2.8  # [m]\n",
    "s = 1.6  # [m]\n",
    "h = 0.8  # [m]\n",
    "\n",
    "# Vertical static forces\n",
    "F_ZF = 12000  # [N]\n",
    "F_ZR = 15000  # [N]\n",
    "\n",
    "g = 9.81  # [m/s²]\n",
    "\n",
    "mu = 1    # Adhesion coefficient"
   ]
  },
  {
   "cell_type": "markdown",
   "metadata": {},
   "source": [
    "**Solution**\n",
    "\n",
    "For the equilibrium in vertical direction we obtained:\n",
    "\n",
    "$$\n",
    "mg = F_{zF}+F_{zR}\n",
    "$$\n",
    "\n",
    "Finally, joint the two last equations:\n",
    "\n",
    "$$\n",
    "\\dot{v} = -\\frac{\\mu g}{2}\n",
    "$$"
   ]
  },
  {
   "cell_type": "code",
   "execution_count": 8,
   "metadata": {
    "collapsed": false
   },
   "outputs": [
    {
     "name": "stdout",
     "output_type": "stream",
     "text": [
      "Longitudinal deceleration [m/s²]: -4.905\n"
     ]
    }
   ],
   "source": [
    "# Longitudinal deceleration\n",
    "vdot = -(mu*g)/2\n",
    "print ('Longitudinal deceleration [m/s²]: {}'.format(vdot))"
   ]
  },
  {
   "cell_type": "markdown",
   "metadata": {},
   "source": [
    "Applying the well know equation of planar longitudinal dynamics in chapter 8. We obtain the vertical forces as follows:\n",
    "\n",
    "\\begin{eqnarray*}\n",
    "F_{z1,z2} & = & mg\\frac{a_{2}}{a}-\\frac{h}{a}m\\dot{v}=F_{stF}-F_{dyn}\\\\\n",
    "F_{z3,z4} & = & mg\\frac{a_{1}}{a}+\\frac{h}{a}m\\dot{v}=F_{stR}+F_{dyn}\n",
    "\\end{eqnarray*}\n",
    "\n",
    "Due to brake system is diagonally redundant, so only two wheels diagonally opossite brake. Then, assuming that these wheels are 1 and 3, the equation of motion of the vehicle is:\n",
    "\n",
    "$$\n",
    "m\\dot{v} = -(F_{x1} + F_{x3}) = -(F_{z1}+F_{z3})\\mu = -\\frac{F_{zF}+F_{zR}}{2}\\mu\n",
    "$$"
   ]
  },
  {
   "cell_type": "code",
   "execution_count": 9,
   "metadata": {
    "collapsed": false
   },
   "outputs": [
    {
     "name": "stdout",
     "output_type": "stream",
     "text": [
      "Longitudinal total force [N]: -13500.0\n"
     ]
    }
   ],
   "source": [
    "Fresult_x = -(F_ZF+F_ZR)*mu/2\n",
    "print ('Longitudinal total force [N]: {}'.format(Fresult_x))"
   ]
  },
  {
   "cell_type": "markdown",
   "metadata": {},
   "source": [
    "The static front load $F_{zF}$ is divided equaly between two tires, so $F_{stF} = F_{zF}/2$. This calculus is similar for the rear tires. Then, the equation of the load on each tire are:\n",
    "\n",
    "\\begin{eqnarray*}\n",
    "F_{z1,z2} & = & \\frac{F_{zF}}{2}-\\frac{h}{a}m\\dot{v}\\\\\n",
    "F_{z3,z4} & = & \\frac{F_{zR}}{2}+\\frac{h}{a}m\\dot{v}\n",
    "\\end{eqnarray*}\n",
    "\n",
    "Then using the total longitudinal force calculated above, we obtained the vertical forces for the wheels 1 and 3:"
   ]
  },
  {
   "cell_type": "code",
   "execution_count": 10,
   "metadata": {
    "collapsed": false
   },
   "outputs": [
    {
     "name": "stdout",
     "output_type": "stream",
     "text": [
      "Vertical force of wheel 1 [N]: 9857.142857142859\n",
      "Vertical force of wheel 3 [N]: 3642.857142857142\n"
     ]
    }
   ],
   "source": [
    "F_z1 = 1/2*F_ZF - h/a*Fresult_x\n",
    "F_z3 = 1/2*F_ZR + h/a*Fresult_x\n",
    "print ('Vertical force of wheel 1 [N]: {}'.format(F_z1))\n",
    "print ('Vertical force of wheel 3 [N]: {}'.format(F_z3))"
   ]
  },
  {
   "cell_type": "markdown",
   "metadata": {},
   "source": [
    "The Resultant yaw moment is calculated as:\n",
    "\n",
    "$$\n",
    "M_{z} = \\frac{s}{2}(F_{x3} - F_{x1}) = \\frac{\\mu s}{2}(F_{z1}-F_{z3})\n",
    "$$"
   ]
  },
  {
   "cell_type": "code",
   "execution_count": 11,
   "metadata": {
    "collapsed": false
   },
   "outputs": [
    {
     "name": "stdout",
     "output_type": "stream",
     "text": [
      "Resultant yaw moment [N-m]: 4971.428571428573\n"
     ]
    }
   ],
   "source": [
    "Mz = s*mu*(F_z1-F_z3)/2\n",
    "print ('Resultant yaw moment [N-m]: {}'.format(Mz))"
   ]
  },
  {
   "cell_type": "markdown",
   "metadata": {},
   "source": [
    "**3. Aufgabe (3 Punkte)**\n",
    "\n",
    "The platform truck bellow can drive in a circle path with diameter $D=16\\;m$.\n",
    "\n",
    "Which steering angle at front wheels is required for this maneouver? The steering system is based on Ackermann geometry."
   ]
  },
  {
   "cell_type": "code",
   "execution_count": 12,
   "metadata": {
    "collapsed": true
   },
   "outputs": [],
   "source": [
    "import math as mt"
   ]
  },
  {
   "cell_type": "markdown",
   "metadata": {},
   "source": [
    "**Solution**\n",
    "\n",
    "In the lateral dynamics (chapter 9) is described the Ackermann (Lankensperger in Germany) steering geometry. From the figure we defined the follows geometric variables of the vehicle: $b = 2.1 \\; m$, $a = 4.3 \\; m$, $s = 1.8 \\; m$, and $f = 0.8 \\; m$. Then, we calculated the minimum radius $R_{min}$ as:\n",
    "\n",
    "$$\n",
    "R_{max}^2 = (R_{min}+b)^2 + (a+f)^2\n",
    "$$"
   ]
  },
  {
   "cell_type": "code",
   "execution_count": 13,
   "metadata": {
    "collapsed": false
   },
   "outputs": [
    {
     "name": "stdout",
     "output_type": "stream",
     "text": [
      "Minimun radius [m]: 4.0636028424939905\n"
     ]
    }
   ],
   "source": [
    "b = 2.1\n",
    "a = 4.3\n",
    "s = 1.8\n",
    "f = 0.8\n",
    "D = 16\n",
    "\n",
    "Rmax = D/2\n",
    "\n",
    "Rmin = mt.sqrt(Rmax**2 - (a+f)**2) - b\n",
    "print ('Minimun radius [m]: {}'.format(Rmin))"
   ]
  },
  {
   "cell_type": "markdown",
   "metadata": {},
   "source": [
    "Finally, the steer angle of the front wheels are determinated as:\n",
    "\n",
    "\\begin{eqnarray*}\n",
    "\\delta_{1,l} & = & \\frac{a}{Rmin + (b-s)/2}\\\\\n",
    "\\delta_{2,r} & = & \\frac{a}{Rmin + (b+s)/2}\n",
    "\\end{eqnarray*}"
   ]
  },
  {
   "cell_type": "code",
   "execution_count": 14,
   "metadata": {
    "collapsed": false
   },
   "outputs": [
    {
     "name": "stdout",
     "output_type": "stream",
     "text": [
      "Inner wheel steer angle [deg]: 45.581425121415705\n",
      "Outer wheel steer angle [deg]: 35.56649521690498\n"
     ]
    }
   ],
   "source": [
    "la1 = mt.atan(a/(Rmin+(b-s)/2))\n",
    "la2 = mt.atan(a/(Rmin+(b+s)/2))\n",
    "print ('Inner wheel steer angle [deg]: {}'.format(la1*180/pi))\n",
    "print ('Outer wheel steer angle [deg]: {}'.format(la2*180/pi))"
   ]
  },
  {
   "cell_type": "markdown",
   "metadata": {},
   "source": [
    "**4. Aufgabe (3 Punkte)**\n",
    "\n",
    "A single track four-axle vehicle model is created. The states of the vehicle are characterized by the side slip vehicle angle $\\beta$, speed $v$ and the yaw rate $\\omega = \\dot{\\gamma}$. The steering front wheel angles are defined as $\\delta_{11}$ and $\\delta_{12}$. The center distances between each axle are denoted by $a_{11}$, $a_{12}$, $a_{21}$ and $a_{22}$.\n",
    "\n",
    "Determine the lateral slips for each wheel in normal driving situation, i.e., $\\beta \\ll 1$, $|a_{ij}v| \\ll |v|$ for $i,j=1,2$ and the front steering angles are small $\\delta_{11} \\ll 1$ and $\\delta_{12} \\ll 1$."
   ]
  },
  {
   "cell_type": "markdown",
   "metadata": {},
   "source": [
    "**Solution**\n",
    "\n",
    "The lateral slip is defined in the chapter 3 as follow:\n",
    "\n",
    "$$\n",
    "s_{y} = -\\frac{v_{y}}{r_{D}|\\Omega|}\n",
    "$$\n",
    "\n",
    "In this simple approach, many assumptions are used:\n",
    "\n",
    "- Constant velocity ($v = \\textrm{const.}$),\n",
    "- The vehicle perform a steady-state cornering,\n",
    "\n",
    "Due to this two assumptions the linear momentum applied in the longitudinal and lateral axis and the angular momentum about the vertical axle result in\n",
    "\n",
    "For longitudinal direction:\n",
    "\\begin{eqnarray*}\n",
    "m(-\\frac{v^{2}}{R}\\sin\\beta) & = & F_{x11}\\cos\\delta_{11}-F_{y11}\\sin\\delta_{11}+F_{x12}+\\\\\n",
    " &  & F_{x12}\\cos\\delta_{12}-F_{y12}\\sin\\delta_{12}+F_{x22}\n",
    "\\end{eqnarray*}\n",
    "\n",
    "for lateral direction:\n",
    "\\begin{eqnarray*}\n",
    "m(\\frac{v^{2}}{R}\\cos\\beta) & = & F_{x11}\\sin\\delta_{11}+F_{y11}\\cos\\delta_{11}+F_{y12}+\\\\\n",
    " &  & F_{x12}\\sin\\delta_{12}+F_{y12}\\cos\\delta_{12}+F_{y22}\n",
    "\\end{eqnarray*}\n",
    "\n",
    "and finally, for the vertical direction:\n",
    "\\begin{eqnarray*}\n",
    "0 & = & a_{11}\\left(F_{x11}\\sin\\delta_{11}+F_{y11}\\cos\\delta_{11}\\right)-a_{21}F_{y12}+\\\\\n",
    " &  & a_{12}\\left(F_{x12}\\sin\\delta_{12}+F_{y12}\\cos\\delta_{12}\\right)-a_{22}F_{y22}\n",
    "\\end{eqnarray*}\n",
    "\n",
    "- The driving torque is distributed differently to the front and rear but equally to each front and rear axle,\n",
    "\n",
    "$$\n",
    "F_{x11}=F_{x12}=F_{x1}=kF_{D}\\;\\textrm{and}\\; F_{x21}=F_{x22}=(1-k)F_{D}\n",
    "$$\n",
    "\n",
    "\n",
    "- The lateral forces working in a linear region,\n",
    "- The rear and front axles are equipped with the same tires,\n",
    "\n",
    "$$\n",
    "F_{y11}=c_{SF}s_{y11},\\, F_{y12}=c_{SF}s_{y12}\\;\\textrm{and}\\; F_{y21}=c_{SR}s_{y21},\\, F_{y22}=c_{SR}s_{y22}\n",
    "$$\n",
    "\n",
    "- The vehile does not brake and accelerate (close to rolling situation).\n",
    "\n",
    "$$\n",
    "r_{D}|\\Omega| \\approx v_{x}\n",
    "$$\n",
    "\n",
    "Joint all the assumptions and equations we defined the lateral slip for front wheels as:\n",
    "\n",
    "\\begin{eqnarray*}\n",
    "s_{y11} & = & -\\frac{-\\sin\\delta_{11}v\\cos\\beta+\\cos\\delta_{11}\\left(v\\sin\\beta+a_{11}\\omega\\right)}{|\\cos\\delta_{11}v\\cos\\beta+\\sin\\delta_{11}\\left(v\\sin\\beta+a_{11}\\omega\\right)|}\\\\\n",
    "s_{y12} & = & -\\frac{-\\sin\\delta_{12}v\\cos\\beta+\\cos\\delta_{12}\\left(v\\sin\\beta+a_{12}\\omega\\right)}{|\\cos\\delta_{12}v\\cos\\beta+\\sin\\delta_{12}\\left(v\\sin\\beta+a_{12}\\omega\\right)|}\n",
    "\\end{eqnarray*}\n",
    "\n",
    "and finally, for the rear wheels:\n",
    "\n",
    "\\begin{eqnarray*}\n",
    "s_{y21} & = & -\\frac{v\\sin\\beta-a_{21}\\omega}{|v\\cos\\beta|}\\\\\n",
    "s_{y22} & = & -\\frac{v\\sin\\beta-a_{22}\\omega}{|v\\cos\\beta|}\n",
    "\\end{eqnarray*}\n",
    "\n",
    "And for normal driving situation, the lateral slip are simplified as:\n",
    "\n",
    "\\begin{eqnarray*}\n",
    "s_{y11} & = & \\frac{v}{|v|}\\delta_{11}-\\beta-\\frac{a_{11}}{|v|}\\omega\\\\\n",
    "s_{y12} & = & \\frac{v}{|v|}\\delta_{12}-\\beta-\\frac{a_{12}}{|v|}\\omega\\\\\n",
    "s_{y21} & = & -\\beta+\\frac{a_{21}}{|v|}\\omega\\\\\n",
    "s_{y22} & = & -\\beta+\\frac{a_{22}}{|v|}\\omega\n",
    "\\end{eqnarray*}"
   ]
  },
  {
   "cell_type": "markdown",
   "metadata": {},
   "source": [
    "**5. Aufgabe (3 Punkte)**\n",
    "\n",
    "How does the control tendency of a vehicle with a sufficiently rigid structure when the roll center, located at the front axle, is:\n",
    "\n",
    "1. upwards and\n",
    "2. downward"
   ]
  },
  {
   "cell_type": "markdown",
   "metadata": {},
   "source": [
    "**Solution**\n",
    "\n",
    "The chassis is a sufficiently rigid structure. This causes that the load transfer (in a curve trayectory) in each axle is different because, the chassis are forced by an internal torque $\\Delta F_{z}^F \\neq F_{z}^R$. The wheel load have a strong influence in the longitudinal and lateral forces. Therefore, the difference between the load transfer can be affect the steering tendency.\n",
    "\n",
    "1. If the roll center at front axle upwards: the wheel load in front axle increases because, for the lateral acceleration is more easy transfer a force at front wheels (for the rear wheels is the opposite). In this case the vehicle is in understeer tendency, this phenomena is similar to the bahaviour when the vehicle only brake with the front wheels (chapter 8).\n",
    "\n",
    "2. If the roll center at front axle downward: the tendency is the opposite, i.e., the vehicle is in oversteer, this phenomena is similar to the bahaviour when the vehicle only brake with the rear wheels (chapter 8)."
   ]
  },
  {
   "cell_type": "markdown",
   "metadata": {
    "collapsed": false
   },
   "source": [
    "**6. Aufgabe (4 Punkte)**\n",
    "\n",
    "The axle load on the rear axle in unladen and laden conditions are $F_{zH}^{u} = 12 \\; kN$ and $F_{zH}^{b} = 30 \\; kN$ respectively. Each of the two leaf springs at the rear axle, has the basic rigidity $c_0$ and are equipped with an auxiliary spring of stiffness $\\Delta c$ that uses when $u^k = 0.03 \\; m$ in deflection. The mass of the rear axle is provided with $m_{HA} = 250 \\; kg$.\n",
    "\n",
    "a) What forces $F_u$, $F_b$ are presents on leaf spring in laden and unladen condition?\n",
    "\n",
    "b) Grundsteifigkeitkeit und Zusatzsteifigkeit. $c_{0}$ and $c_{0}+\\Delta c$?\n",
    "\n",
    "c) Specify reasonable value of a damper element on the rear axle in unladen and laden condition."
   ]
  },
  {
   "cell_type": "code",
   "execution_count": 15,
   "metadata": {
    "collapsed": true
   },
   "outputs": [],
   "source": [
    "F_uz = 12000\n",
    "F_bz = 30000\n",
    "mHA = 250\n",
    "g = 9.81"
   ]
  },
  {
   "cell_type": "markdown",
   "metadata": {
    "collapsed": true
   },
   "source": [
    "**Solution**\n",
    "\n",
    "a) $F_u = F_{zH}^{u} - m_{HA}g $ and $F_b = F_{zH}^{b} - m_{HA}g $"
   ]
  },
  {
   "cell_type": "code",
   "execution_count": 16,
   "metadata": {
    "collapsed": false
   },
   "outputs": [
    {
     "name": "stdout",
     "output_type": "stream",
     "text": [
      "Fu [N]: 9547.5\n",
      "Fb [N]: 27547.5\n"
     ]
    }
   ],
   "source": [
    "Fu = F_uz - mHA*g\n",
    "Fb = F_bz - mHA*g\n",
    "print ('Fu [N]: {}'.format(Fu))\n",
    "print ('Fb [N]: {}'.format(Fb))"
   ]
  },
  {
   "cell_type": "markdown",
   "metadata": {},
   "source": [
    "b) In this question, we need to calculate the basic stiffness coefficient $c_{0}$ and the stiffness of the auxialry spring $\\Delta c$. In previous question, we calculated the unlanden and landen force actuating in the spring and spring plus the additional spring. The natural frequency of this suspension system is straigthforward to get: $f=\\frac{1}{2\\pi}\\sqrt{\\frac{k}{m}}$."
   ]
  },
  {
   "cell_type": "markdown",
   "metadata": {},
   "source": [
    "These frequency should be maintained, because otherwise we would have a natural frequency for each condition (laden and unladen) and thus have more probability to fall into resonance. Then:\n",
    "\n",
    "$$\n",
    "\\frac{c_{0}}{m_{u}} = \\frac{c_{0}+\\Delta c}{m_{b}}\n",
    "$$\n",
    "\n",
    "and\n",
    "\n",
    "$$\n",
    "m_{u} = F_{u}/g \\; \\textrm{and} \\; m_{b} = F_{b}/g\n",
    "$$"
   ]
  },
  {
   "cell_type": "code",
   "execution_count": 17,
   "metadata": {
    "collapsed": false
   },
   "outputs": [
    {
     "name": "stdout",
     "output_type": "stream",
     "text": [
      "mu [Kg]: 973.2415902140672\n",
      "mb [Kg]: 2808.103975535168\n"
     ]
    }
   ],
   "source": [
    "mu = Fu/g\n",
    "mb = Fb/g\n",
    "print ('mu [Kg]: {}'.format(mu))\n",
    "print ('mb [Kg]: {}'.format(mb))"
   ]
  },
  {
   "cell_type": "markdown",
   "metadata": {},
   "source": [
    "For the spring curve (Zusatzsteifigkeit) we have the following equality:\n",
    "\n",
    "$$\n",
    "F_{u} + u_{k}c_{0} + (c_{0}+\\Delta c)(u_{b} - u_{k}) = F_{b}\n",
    "$$\n",
    "\n",
    "where: $u_{k} = 0.03 \\, m$, $u_{b} = 0.06 \\, m$, $F_{u} = 9547.5 \\, N$ and $F_{b} = 27547.5 \\, N$.\n",
    "\n",
    "Using this equations and the frequency equality we calculated the $c_{0}$ and $c_{0} + \\Delta c$ coefficients."
   ]
  },
  {
   "cell_type": "code",
   "execution_count": 18,
   "metadata": {
    "collapsed": false
   },
   "outputs": [
    {
     "name": "stdout",
     "output_type": "stream",
     "text": [
      "Basic spring coefficient [N/m]: 154428\n",
      "Additional spring coefficient [N/m]: 291145\n"
     ]
    }
   ],
   "source": [
    "uk = 0.03\n",
    "ub = 0.06\n",
    "\n",
    "c0 = (Fb-Fu)/(uk + (mb/mu)*(ub - uk))\n",
    "delta_c = c0*(mb/mu - 1)\n",
    "\n",
    "print ('Basic spring coefficient [N/m]: {}'.format(mt.ceil(c0)))\n",
    "print ('Additional spring coefficient [N/m]: {}'.format(mt.ceil(delta_c)))"
   ]
  },
  {
   "cell_type": "markdown",
   "metadata": {},
   "source": [
    "c) To design a damper element, i.e., its damping coefficient, is necessary to know if you want an undampend or damped system. This depends of the objective of the suspension system, e.g, comfort or safety. For this case I assumed that the mainly objective is the comfort, i.e., a balance between: low vertical acceleration and low overshoot. Therefore, values below the critical damping are considered:\n",
    "\n",
    "- For unladen condition: $d_{u} < 2\\sqrt{c_{0}m_{u}}$ and,\n",
    "- For laden condition: $d_{b} < 2\\sqrt{(c_{0}+\\Delta c)m_{b}}$"
   ]
  },
  {
   "cell_type": "code",
   "execution_count": 19,
   "metadata": {
    "collapsed": false
   },
   "outputs": [
    {
     "name": "stdout",
     "output_type": "stream",
     "text": [
      "Damping coefficient in unladen condition [N/(m/s)] < 24520\n",
      "Damping coefficient in laden condition [N/(m/s)] < 70745\n"
     ]
    }
   ],
   "source": [
    "duc = 2*mt.sqrt(c0*mu)\n",
    "dbc = 2*mt.sqrt((c0+delta_c)*mb)\n",
    "\n",
    "print ('Damping coefficient in unladen condition [N/(m/s)] < {}'.format(mt.ceil(duc)))\n",
    "print ('Damping coefficient in laden condition [N/(m/s)] < {}'.format(mt.ceil(dbc)))"
   ]
  }
 ],
 "metadata": {
  "kernelspec": {
   "display_name": "Python 2",
   "language": "python",
   "name": "python2"
  },
  "language_info": {
   "codemirror_mode": {
    "name": "ipython",
    "version": 2
   },
   "file_extension": ".py",
   "mimetype": "text/x-python",
   "name": "python",
   "nbconvert_exporter": "python",
   "pygments_lexer": "ipython2",
   "version": "2.7.10"
  }
 },
 "nbformat": 4,
 "nbformat_minor": 0
}
