{
 "cells": [
  {
   "cell_type": "code",
   "execution_count": 42,
   "metadata": {
    "collapsed": false
   },
   "outputs": [],
   "source": [
    "from __future__ import division\n",
    "from math import sin, cos, tan, sqrt, pi"
   ]
  },
  {
   "cell_type": "markdown",
   "metadata": {},
   "source": [
    "**1. Aufgabe (4Punkte)**"
   ]
  },
  {
   "cell_type": "code",
   "execution_count": 43,
   "metadata": {
    "collapsed": true
   },
   "outputs": [],
   "source": [
    "Fz = 4*10**3         # Tire load [N]\n",
    "Fx_max = 4.5*10**3   # Max. longitudinal force [N]\n",
    "Fy_max = 4.15*10**3  # Max. lateral force [N]"
   ]
  },
  {
   "cell_type": "markdown",
   "metadata": {},
   "source": [
    "**Solution**\n",
    "\n",
    "a) Coefficient of adhesion in longitudinal and lateral direction:\n",
    "\n",
    "$$\n",
    "\\mu_x = \\frac{F_x^{max}}{F_z} \\; \\textrm{and} \\; \\mu_y = \\frac{F_y^{max}}{F_z}\n",
    "$$"
   ]
  },
  {
   "cell_type": "code",
   "execution_count": 44,
   "metadata": {
    "collapsed": false
   },
   "outputs": [
    {
     "name": "stdout",
     "output_type": "stream",
     "text": [
      "ux [-]: 1.12\n",
      "uy [-]: 1.04\n"
     ]
    }
   ],
   "source": [
    "ux = Fx_max/Fz\n",
    "uy = Fy_max/Fz\n",
    "\n",
    "print('ux [-]: {0:.2f}'.format(ux))\n",
    "print('uy [-]: {0:.2f}'.format(uy))"
   ]
  },
  {
   "cell_type": "markdown",
   "metadata": {},
   "source": [
    "b) Why is the coefficient of friction larger in longitudinal than in lateral direction?\n",
    "\n",
    "Lateral forces generate a a tire deformation that changes the pressure distribution in the contact patch from uniformly to uneven (c.f. Figure 3.33 in the book). The degressive friction law (Unlike Coulomb’s law, pressure and coefficient of friction are here not proportional. Doubling the pressure increases the coefficient of friction to a value less than the double),  reduces the maximum transmittable lateral force then."
   ]
  },
  {
   "cell_type": "markdown",
   "metadata": {},
   "source": [
    "c) Suppose that the force characteristics Fx and Fy in the longitudinal and the lateral directions are measured on the presence of  additional but constant lateral and longitudinal slips. Add sketches of these characteristics to the given plot.\n",
    "\n",
    "See upper left and lower right plot in Figure 3.32 of the book."
   ]
  },
  {
   "cell_type": "markdown",
   "metadata": {},
   "source": [
    "**2. Aufgabe (4 Punkte)**\n",
    "\n",
    "**Solution**\n",
    "\n",
    "a) how much torque must exert the traction vehicle to the driven rear axle in order to move the load? The radius of the rear wheels is $r = 0.5$ m."
   ]
  },
  {
   "cell_type": "code",
   "execution_count": 45,
   "metadata": {
    "collapsed": true
   },
   "outputs": [],
   "source": [
    "# Vehicle parameters\n",
    "a1 = 3.0  # [m]\n",
    "a2 = 1.8  # [m]\n",
    "hz = 1.4  # [m]\n",
    "mz = 16000  # [kg]\n",
    "r = 0.5   # [m]\n",
    "\n",
    "hk = 0.8  # [m]\n",
    "ma = 18000  # [kg]\n",
    "\n",
    "g = 9.81  # [m/s²]\n",
    "\n",
    "mu = 1    # Adhesion coefficient\n",
    "\n",
    "alpha = 12.4*pi/180"
   ]
  },
  {
   "cell_type": "markdown",
   "metadata": {},
   "source": [
    "$$\n",
    "F_{x} = (m_z + m_A)g\\sin(\\alpha)\n",
    "$$\n",
    "\n",
    "$$\n",
    "M_A = F_{x}r\n",
    "$$"
   ]
  },
  {
   "cell_type": "code",
   "execution_count": 46,
   "metadata": {
    "collapsed": false
   },
   "outputs": [
    {
     "name": "stdout",
     "output_type": "stream",
     "text": [
      "Fx [N]: 71622.82\n",
      "MA [N.m]: 35811.41\n"
     ]
    }
   ],
   "source": [
    "Fx = (mz + ma)*g*sin(alpha)\n",
    "MA = Fx*r\n",
    "print('Fx [N]: {0:.2f}'.format(Fx))\n",
    "print('MA [N.m]: {0:.2f}'.format(MA))"
   ]
  },
  {
   "cell_type": "markdown",
   "metadata": {},
   "source": [
    "b) What coefficient of adhesion $\\mu$ is required?\n",
    "\n",
    "First, we calculate the vertical load in the rear axle of the truck, for this the result moment relative to the front contact point is calculated as:\n",
    "\n",
    "$$\n",
    "0 = m_{Z}g\\cos(\\alpha)a_1 + m_{Z}g\\sin(\\alpha)h_{Z} + m_{A}g\\sin(\\alpha)h_{K} - F_{z2}(a_{1}+a_{2}),\n",
    "$$"
   ]
  },
  {
   "cell_type": "code",
   "execution_count": 47,
   "metadata": {
    "collapsed": false
   },
   "outputs": [
    {
     "name": "stdout",
     "output_type": "stream",
     "text": [
      "Fz2 [N]: 111961.79\n"
     ]
    }
   ],
   "source": [
    "Fz2 = (mz*g*(cos(alpha)*a1 + sin(alpha)*hz) + ma*g*sin(alpha)*hk)/(a1+a2)\n",
    "print('Fz2 [N]: {0:.2f}'.format(Fz2))"
   ]
  },
  {
   "cell_type": "markdown",
   "metadata": {},
   "source": [
    "Finally, the adhesion coefficient:\n",
    "\n",
    "$$\n",
    "\\mu = \\frac{F_x}{F_z}\n",
    "$$"
   ]
  },
  {
   "cell_type": "code",
   "execution_count": 48,
   "metadata": {
    "collapsed": false
   },
   "outputs": [
    {
     "name": "stdout",
     "output_type": "stream",
     "text": [
      "u [-]: 0.64\n"
     ]
    }
   ],
   "source": [
    "mu_2 = Fx/Fz2\n",
    "print('u [-]: {0:.2f}'.format(mu_2))"
   ]
  },
  {
   "cell_type": "markdown",
   "metadata": {},
   "source": [
    "**3. Aufgabe (3 Punkte)**\n",
    "\n",
    "a) What is the maximum deceleration reached for the vehicle on dry pavement with a coefficient of $ \\mu = 0.9$, if only the front wheels are braked?\n",
    "\n",
    "In the chapter of longitudinal dynamics, the maximum longitudinal deceleration when only the front wheels are braking is calculated as follows:\n",
    "\n",
    "$$\n",
    "\\dot{v} = -\\mu g \\left(\\frac{a_{2}}{a_{1}+a_{2}} - \\frac{h}{a_{1}+a_{2}}\\frac{\\dot{v}}{g}\\right)\n",
    "$$\n",
    "\n",
    "Then:\n",
    "\n",
    "$$\n",
    "\\frac{\\dot{v}}{g} = -\\mu \\frac{a_{2}}{(a_{1}+a_{2}-\\mu h)}\n",
    "$$"
   ]
  },
  {
   "cell_type": "code",
   "execution_count": 49,
   "metadata": {
    "collapsed": false
   },
   "outputs": [
    {
     "name": "stdout",
     "output_type": "stream",
     "text": [
      "ax [m/s²]: -9.16\n"
     ]
    }
   ],
   "source": [
    "a1 = 673\n",
    "a2 = 800\n",
    "h = 780\n",
    "mu = 0.9\n",
    "g = 9.81\n",
    "s2 = 518\n",
    "s1 = 1199\n",
    "\n",
    "ax_max = -mu*a2*g/(a1+a2-mu*h)\n",
    "print('ax [m/s²]: {0:.2f}'.format(ax_max))"
   ]
  },
  {
   "cell_type": "markdown",
   "metadata": {},
   "source": [
    "But, the maximum deceleration is physically limited by the factor $-\\mu g = -8.829 \\, m/s^2$. Then, the new maximum deceleration is limit by the tilting limit as:\n",
    "\n",
    "$$\n",
    "-\\frac{a_{1}}{h} \\leq \\frac{\\dot{v}}{g} \\leq \\frac{a_{2}}{h}\n",
    "$$\n",
    "\n",
    "Finally:\n",
    "\n",
    "$$\n",
    "a_{max} = -\\frac{a_{1}}{h}\n",
    "$$"
   ]
  },
  {
   "cell_type": "code",
   "execution_count": 50,
   "metadata": {
    "collapsed": false
   },
   "outputs": [
    {
     "name": "stdout",
     "output_type": "stream",
     "text": [
      "ax [m/s²]: -8.46\n"
     ]
    }
   ],
   "source": [
    "ax_max = -a1*g/h\n",
    "print('ax [m/s²]: {0:.2f}'.format(ax_max))"
   ]
  },
  {
   "cell_type": "markdown",
   "metadata": {},
   "source": [
    "b) What is the maximum lateral acceleration of the vehicle without reach the rollover?\n",
    "\n",
    "To calculate the maximum lateral acceleration without reach the rollover condition, is necessary obtain the distance between the center of gravity of the vehicle and the axis in which it rotate. Using a geometry relationship, we have:\n",
    "\n",
    "$$\n",
    "y = \\frac{a_{2}s_{1} + a_{1}s_{2}}{2(a_{1}+a_{2})}\n",
    "$$\n",
    "\n",
    "when, $s_1$ and $s_2$ are the front and rear axle width respectivelly."
   ]
  },
  {
   "cell_type": "code",
   "execution_count": 51,
   "metadata": {
    "collapsed": false
   },
   "outputs": [
    {
     "name": "stdout",
     "output_type": "stream",
     "text": [
      "y [mm]: 443.93\n"
     ]
    }
   ],
   "source": [
    "y = (a2*s1+a1*s2)/(2*(a1+a2))\n",
    "print('y [mm]: {0:.2f}'.format(y))"
   ]
  },
  {
   "cell_type": "markdown",
   "metadata": {},
   "source": [
    "The maximum lateral acceleration is defined as:\n",
    "\n",
    "$$\n",
    "a_{y}^{max} = \\frac{y}{h}g\n",
    "$$"
   ]
  },
  {
   "cell_type": "code",
   "execution_count": 52,
   "metadata": {
    "collapsed": false
   },
   "outputs": [
    {
     "name": "stdout",
     "output_type": "stream",
     "text": [
      "ay [m/s²]: 5.58\n"
     ]
    }
   ],
   "source": [
    "ay_max = (y/h)*g\n",
    "print('ay [m/s²]: {0:.2f}'.format(ay_max))"
   ]
  },
  {
   "cell_type": "markdown",
   "metadata": {},
   "source": [
    "**4. Aufgabe (3 Punkte)**\n",
    "\n",
    "**Solution**\n",
    "\n",
    "a) Determine the masses $M_{1}$, $M_{2}$ and the couple mass $M^{*}$.\n",
    "\n",
    "$$\n",
    "M_{1}=\\frac{\\Theta}{a_{1}(a_{1}+a_{2})}\\\\\n",
    "M_{2}=\\frac{\\Theta}{a_{2}(a_{1}+a_{2})}\\\\\n",
    "M^{*}=M\\left(1-\\frac{\\Theta}{Ma_{1}a_{2}}\\right)\n",
    "$$"
   ]
  },
  {
   "cell_type": "code",
   "execution_count": 53,
   "metadata": {
    "collapsed": true
   },
   "outputs": [],
   "source": [
    "a1 = 1.4\n",
    "a2 = 1\n",
    "Theta = 4000\n",
    "\n",
    "m1 = 600\n",
    "M = 3000\n",
    "\n",
    "ctf = 350000\n",
    "dtf = 3000\n",
    "\n",
    "ctr = 450000\n",
    "dtr = 5000"
   ]
  },
  {
   "cell_type": "code",
   "execution_count": 54,
   "metadata": {
    "collapsed": false
   },
   "outputs": [
    {
     "name": "stdout",
     "output_type": "stream",
     "text": [
      "M1 [Kg]: 1190.48\n",
      "M2 [Kg]: 1666.67\n",
      "M* [Kg]: 142.86\n"
     ]
    }
   ],
   "source": [
    "M1 = Theta/(a1*(a1+a2))\n",
    "M2 = Theta/(a2*(a1+a2))\n",
    "Ma = M*(1 - Theta/(M*a1*a2))\n",
    "print('M1 [Kg]: {0:.2f}'.format(M1))\n",
    "print('M2 [Kg]: {0:.2f}'.format(M2))\n",
    "print('M* [Kg]: {0:.2f}'.format(Ma))"
   ]
  },
  {
   "cell_type": "markdown",
   "metadata": {},
   "source": [
    "Because $M^{*} << M_{1} \\; \\textrm{and} \\; M_{2}$, is possible to deacouple the system in two masses."
   ]
  },
  {
   "cell_type": "markdown",
   "metadata": {},
   "source": [
    "b) Determine the constant of the front axle suspension $c_{S1}$ such that the decouple mass $M_{1}$ oscillates over the front axle with an undamped natural frequency of $f_{0} = 1 \\, Hz$.\n",
    "\n",
    "$$\n",
    "\\omega_{0} = 2\\pi f_{0} = \\sqrt{\\frac{c_{S1}}{M_1}}\n",
    "$$"
   ]
  },
  {
   "cell_type": "code",
   "execution_count": 55,
   "metadata": {
    "collapsed": false
   },
   "outputs": [
    {
     "name": "stdout",
     "output_type": "stream",
     "text": [
      "cs1 [N/m]: 46998.12\n"
     ]
    }
   ],
   "source": [
    "f0 = 1\n",
    "cs1 = (2*pi*f0)**2*M1\n",
    "print('cs1 [N/m]: {0:.2f}'.format(cs1))"
   ]
  },
  {
   "cell_type": "markdown",
   "metadata": {},
   "source": [
    "c) Determine damping constant of the front suspension $d_{S1}$ considering the tire damping and that is required that the response decay as quickly as possible.\n",
    "\n",
    "In trucks is most important the security than the comfort, so we considered in this case a damping ratio $\\zeta_{safety}=\\frac{1}{2}$, then:\n",
    "\n",
    "$$\n",
    "d_{S1} + d_{TF} = \\sqrt{(c_{S1} + c_{TF})m_{1}}\n",
    "$$"
   ]
  },
  {
   "cell_type": "code",
   "execution_count": 56,
   "metadata": {
    "collapsed": false
   },
   "outputs": [
    {
     "name": "stdout",
     "output_type": "stream",
     "text": [
      "ds1 [N/(m/s)]: 12433.69\n"
     ]
    }
   ],
   "source": [
    "ds1 = sqrt((cs1+ctf)*m1) - dtf\n",
    "print('ds1 [N/(m/s)]: {0:.2f}'.format(ds1))"
   ]
  },
  {
   "cell_type": "markdown",
   "metadata": {},
   "source": [
    "d) Determine the dimensionless damping parameter $\\zeta_{2}$ characterizing the oscillations of the decouple mass $M_2$ above the rear tire.\n",
    "\n",
    "$$\n",
    "\\zeta_{2} = \\frac{d_{TR}}{2\\sqrt{c_{TR}M_{2}}}\n",
    "$$"
   ]
  },
  {
   "cell_type": "code",
   "execution_count": 57,
   "metadata": {
    "collapsed": false
   },
   "outputs": [
    {
     "name": "stdout",
     "output_type": "stream",
     "text": [
      "Damping parameter [-]: 0.09\n"
     ]
    }
   ],
   "source": [
    "zeta_2 = dtr/(2*sqrt(ctr*M2))\n",
    "print('Damping parameter [-]: {0:.2f}'.format(zeta_2))"
   ]
  },
  {
   "cell_type": "code",
   "execution_count": 58,
   "metadata": {
    "collapsed": false
   },
   "outputs": [
    {
     "data": {
      "text/html": [
       "<link href='http://fonts.googleapis.com/css?family=Alegreya+Sans:100,300,400,500,700,800,900,100italic,300italic,400italic,500italic,700italic,800italic,900italic' rel='stylesheet' type='text/css'>\n",
       "<link href='http://fonts.googleapis.com/css?family=Arvo:400,700,400italic' rel='stylesheet' type='text/css'>\n",
       "<link href='http://fonts.googleapis.com/css?family=PT+Mono' rel='stylesheet' type='text/css'>\n",
       "<link href='http://fonts.googleapis.com/css?family=Shadows+Into+Light' rel='stylesheet' type='text/css'>\n",
       "<link href='http://fonts.googleapis.com/css?family=Nixie+One' rel='stylesheet' type='text/css'>\n",
       "<style>\n",
       "\n",
       "@font-face {\n",
       "    font-family: \"Computer Modern\";\n",
       "    src: url('http://mirrors.ctan.org/fonts/cm-unicode/fonts/otf/cmunss.otf');\n",
       "}\n",
       "\n",
       "#notebook_panel { /* main background */\n",
       "    background: rgb(245,245,245);\n",
       "}\n",
       "\n",
       "div.cell { /* set cell width */\n",
       "    width: 750px;\n",
       "}\n",
       "\n",
       "div #notebook { /* centre the content */\n",
       "    background: #fff; /* white background for content */\n",
       "    width: 1000px;\n",
       "    margin: auto;\n",
       "    padding-left: 0em;\n",
       "}\n",
       "\n",
       "#notebook li { /* More space between bullet points */\n",
       "    margin-top:0.8em;\n",
       "}\n",
       "\n",
       "/* draw border around running cells */\n",
       "div.cell.border-box-sizing.code_cell.running {\n",
       "    border: 1px solid #111;\n",
       "}\n",
       "\n",
       "/* Put a solid color box around each cell and its output, visually linking them*/\n",
       "div.cell.code_cell {\n",
       "    background-color: rgb(256,256,256);\n",
       "    border-radius: 0px;\n",
       "    padding: 0.5em;\n",
       "    margin-left:1em;\n",
       "    margin-top: 1em;\n",
       "}\n",
       "\n",
       "div.text_cell_render{\n",
       "    font-family: 'Alegreya Sans' sans-serif;\n",
       "    line-height: 140%;\n",
       "    font-size: 125%;\n",
       "    font-weight: 400;\n",
       "    width:600px;\n",
       "    margin-left:auto;\n",
       "    margin-right:auto;\n",
       "}\n",
       "\n",
       "\n",
       "/* Formatting for header cells */\n",
       ".text_cell_render h1 {\n",
       "    font-family: 'Nixie One', serif;\n",
       "    font-style:regular;\n",
       "    font-weight: 400;\n",
       "    font-size: 45pt;\n",
       "    line-height: 100%;\n",
       "    color: rgb(0,51,102);\n",
       "    margin-bottom: 0.5em;\n",
       "    margin-top: 0.5em;\n",
       "    display: block;\n",
       "}\n",
       "\n",
       ".text_cell_render h2 {\n",
       "    font-family: 'Nixie One', serif;\n",
       "    font-weight: 400;\n",
       "    font-size: 30pt;\n",
       "    line-height: 100%;\n",
       "    color: rgb(0,51,102);\n",
       "    margin-bottom: 0.1em;\n",
       "    margin-top: 0.3em;\n",
       "    display: block;\n",
       "}\n",
       "\n",
       ".text_cell_render h3 {\n",
       "    font-family: 'Nixie One', serif;\n",
       "    margin-top:16px;\n",
       "    font-size: 22pt;\n",
       "    font-weight: 600;\n",
       "    margin-bottom: 3px;\n",
       "    font-style: regular;\n",
       "    color: rgb(102,102,0);\n",
       "}\n",
       "\n",
       ".text_cell_render h4 {    /*Use this for captions*/\n",
       "    font-family: 'Nixie One', serif;\n",
       "    font-size: 14pt;\n",
       "    text-align: center;\n",
       "    margin-top: 0em;\n",
       "    margin-bottom: 2em;\n",
       "    font-style: regular;\n",
       "}\n",
       "\n",
       ".text_cell_render h5 {  /*Use this for small titles*/\n",
       "    font-family: 'Nixie One', sans-serif;\n",
       "    font-weight: 400;\n",
       "    font-size: 16pt;\n",
       "    color: rgb(163,0,0);\n",
       "    font-style: italic;\n",
       "    margin-bottom: .1em;\n",
       "    margin-top: 0.8em;\n",
       "    display: block;\n",
       "}\n",
       "\n",
       ".text_cell_render h6 { /*use this for copyright note*/\n",
       "    font-family: 'PT Mono', sans-serif;\n",
       "    font-weight: 300;\n",
       "    font-size: 9pt;\n",
       "    line-height: 100%;\n",
       "    color: grey;\n",
       "    margin-bottom: 1px;\n",
       "    margin-top: 1px;\n",
       "}\n",
       "\n",
       ".CodeMirror{\n",
       "    font-family: \"PT Mono\";\n",
       "    font-size: 90%;\n",
       "}\n",
       "\n",
       "</style>\n",
       "<script>\n",
       "    MathJax.Hub.Config({\n",
       "                        TeX: {\n",
       "                           extensions: [\"AMSmath.js\"],\n",
       "                           equationNumbers: { autoNumber: \"AMS\", useLabelIds: true}\n",
       "                           },\n",
       "                tex2jax: {\n",
       "                    inlineMath: [ ['$','$'], [\"\\\\(\",\"\\\\)\"] ],\n",
       "                    displayMath: [ ['$$','$$'], [\"\\\\[\",\"\\\\]\"] ]\n",
       "                },\n",
       "                displayAlign: 'center', // Change this to 'center' to center equations.\n",
       "                \"HTML-CSS\": {\n",
       "                    styles: {'.MathJax_Display': {\"margin\": 4}}\n",
       "                }\n",
       "        });\n",
       "</script>\n"
      ],
      "text/plain": [
       "<IPython.core.display.HTML object>"
      ]
     },
     "execution_count": 58,
     "metadata": {},
     "output_type": "execute_result"
    }
   ],
   "source": [
    "from IPython.core.display import HTML\n",
    "css_file = 'C:/Users/abel/.ipython/profile_abel/static/css/custom.css'\n",
    "HTML(open(css_file, \"r\").read())"
   ]
  },
  {
   "cell_type": "code",
   "execution_count": null,
   "metadata": {
    "collapsed": true
   },
   "outputs": [],
   "source": []
  }
 ],
 "metadata": {
  "kernelspec": {
   "display_name": "Python 3",
   "language": "python",
   "name": "python3"
  },
  "language_info": {
   "codemirror_mode": {
    "name": "ipython",
    "version": 3
   },
   "file_extension": ".py",
   "mimetype": "text/x-python",
   "name": "python",
   "nbconvert_exporter": "python",
   "pygments_lexer": "ipython3",
   "version": "3.4.3"
  }
 },
 "nbformat": 4,
 "nbformat_minor": 0
}
