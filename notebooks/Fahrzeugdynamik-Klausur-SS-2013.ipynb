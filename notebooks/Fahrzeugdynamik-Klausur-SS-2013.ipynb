{
 "cells": [
  {
   "cell_type": "code",
   "execution_count": 30,
   "metadata": {
    "collapsed": false
   },
   "outputs": [],
   "source": [
    "from __future__ import division\n",
    "from math import sin, cos, tan, sqrt, pi, atan\n",
    "import numpy as np\n",
    "\n",
    "np.set_printoptions(formatter={'float': '{: 0.4f}'.format})"
   ]
  },
  {
   "cell_type": "markdown",
   "metadata": {},
   "source": [
    "**1. Aufgabe (1 Punkte)**"
   ]
  },
  {
   "cell_type": "code",
   "execution_count": 3,
   "metadata": {
    "collapsed": false
   },
   "outputs": [],
   "source": [
    "def wheel_rot_vec(d_0, g_0, camber):\n",
    "    '''\n",
    "    Calculate the unit vector of the wheel's rotation axis:\n",
    "    \n",
    "    :param d_0 - toe angle\n",
    "    if flag is 1\n",
    "    :param g_0 - camber angle\n",
    "    else\n",
    "    :param g_0 - is hat gamma_0\n",
    "    '''\n",
    "    if camber is 1:\n",
    "        e_yR = np.array([sin(d_0)*cos(g_0), cos(d_0)*cos(g_0), -sin(g_0)])\n",
    "    else:\n",
    "        e_yR = (1/sqrt(tan(d_0)**2 + 1 + tan(g_0)**2))*np.array([tan(d_0), 1, -tan(g_0)])\n",
    "    \n",
    "    return e_yR"
   ]
  },
  {
   "cell_type": "markdown",
   "metadata": {},
   "source": [
    "**Solution:**\n",
    "\n",
    "Die Komponenten des Einheitsvektors $e_{yR}$, der die Richtung der Raddrehachse angibt:"
   ]
  },
  {
   "cell_type": "code",
   "execution_count": 4,
   "metadata": {
    "collapsed": false
   },
   "outputs": [
    {
     "name": "stdout",
     "output_type": "stream",
     "text": [
      "eyR:[ 0.0087  0.9999  0.0140]\n"
     ]
    }
   ],
   "source": [
    "# Data\n",
    "d_0 = 0.5*pi/180   # Toe angle\n",
    "g_0 = -0.8*pi/180  # Hat gamma_0 angle\n",
    "\n",
    "camber = 0  # Because we use the hat gamma_0 angle\n",
    "\n",
    "e_yR = wheel_rot_vec(d_0, g_0, camber)\n",
    "\n",
    "print('eyR:{0}'.format(e_yR))"
   ]
  },
  {
   "cell_type": "markdown",
   "metadata": {},
   "source": [
    "**2. Aufgabe (2 Punkte)**\n",
    "\n",
    "**Solution:**\n",
    "\n",
    "Einheitsvektoren $e_{x,0}$ und $e_{y,0}$:"
   ]
  },
  {
   "cell_type": "code",
   "execution_count": 5,
   "metadata": {
    "collapsed": false,
    "scrolled": true
   },
   "outputs": [
    {
     "name": "stdout",
     "output_type": "stream",
     "text": [
      "ex,0:[ 0.9658  0.2590  0.0136]\n",
      "ey,0:[-0.2594  0.9644  0.0505]\n"
     ]
    }
   ],
   "source": [
    "e_yR_0 = [-0.2588, 0.9658, -0.0175]\n",
    "e_n_0  = [0, -0.0523, 0.9986]\n",
    "\n",
    "# ex = eyR * en\n",
    "e_x_0 = np.cross(e_yR_0, e_n_0)\n",
    "e_x_0 /= np.linalg.norm(e_x_0)\n",
    "\n",
    "print('ex,0:{0}'.format(e_x_0))\n",
    "\n",
    "# ey = en * ex\n",
    "e_y_0 = np.cross(e_n_0, e_x_0)\n",
    "e_y_0 /= np.linalg.norm(e_y_0)\n",
    "\n",
    "print('ey,0:{0}'.format(e_y_0))"
   ]
  },
  {
   "cell_type": "markdown",
   "metadata": {},
   "source": [
    "**3. Aufgabe (2 Punkte)**\n",
    "\n",
    "**Solution:**\n",
    "\n",
    "Steifigkeit des Stabilisators:\n",
    "\n",
    "$$\n",
    "c_{arb} = i_{arb}^2 \\frac{\\pi}{32} \\frac{GD^4}{a^2b}\n",
    "$$"
   ]
  },
  {
   "cell_type": "code",
   "execution_count": 9,
   "metadata": {
    "collapsed": false,
    "scrolled": true
   },
   "outputs": [
    {
     "name": "stdout",
     "output_type": "stream",
     "text": [
      "Steifigkeit des Stabilisators [N/mm]:12.66\n"
     ]
    }
   ],
   "source": [
    "# Daten der Steifigkeit des Stabilisators\n",
    "a = 250    # [mm]\n",
    "b = 750    # [mm]\n",
    "D = 20     # [mm]\n",
    "\n",
    "iarb = 2/3\n",
    "G = 85000  # [N/mm^2]\n",
    "\n",
    "carb = (iarb**2)*(pi/32)*((G*D**4)/(a**2*b))\n",
    "print('Steifigkeit des Stabilisators [N/mm]:{0:.2f}'.format(carb))"
   ]
  },
  {
   "cell_type": "markdown",
   "metadata": {},
   "source": [
    "**4. Aufgabe (3 Punkte)**\n",
    "\n",
    "**Solution:**\n",
    "\n",
    "The maximum deceleration is limit by the coefficient of friction $\\dot{v} = -\\mu g$. From the equation of the problem 2 of list 1, we can calculate the longitudinal maximum longitudinal forces of each wheel as:\n",
    "\n",
    "\\begin{eqnarray*}\n",
    "F_{x1} & = & \\mu (mg\\frac{a_{2}}{a}-\\frac{h}{a}m\\dot{v})\\\\\n",
    "F_{x2} & = & \\mu (mg\\frac{a_{1}}{a}+\\frac{h}{a}m\\dot{v})\n",
    "\\end{eqnarray*}"
   ]
  },
  {
   "cell_type": "code",
   "execution_count": 2,
   "metadata": {
    "collapsed": false
   },
   "outputs": [
    {
     "name": "stdout",
     "output_type": "stream",
     "text": [
      "Fx1 [N]:-500.31\n",
      "Fx2 [N]:-206.01\n"
     ]
    }
   ],
   "source": [
    "u = 0.4\n",
    "m = 180\n",
    "g = 9.81\n",
    "a1 = 0.65\n",
    "a2 = 0.55\n",
    "h = 0.75\n",
    "\n",
    "Fx1 = u*(m*g*a2/(a1+a2) - h*m*(-u*g)/(a1+a2))\n",
    "Fx2 = u*(m*g*a1/(a1+a2) + h*m*(-u*g)/(a1+a2))\n",
    "\n",
    "print('Fx1 [N]:{0:.2f}'.format(-Fx1))\n",
    "print('Fx2 [N]:{0:.2f}'.format(-Fx2))"
   ]
  },
  {
   "cell_type": "markdown",
   "metadata": {},
   "source": [
    "**5. Aufgabe (6 Punkte)**\n",
    "\n",
    "**Solution:**"
   ]
  },
  {
   "cell_type": "code",
   "execution_count": 15,
   "metadata": {
    "collapsed": false
   },
   "outputs": [
    {
     "data": {
      "image/png": "[encoded data removed]",
      "text/plain": [
       "<wand.image.Image: 6de566a 'PNG' (469x450)>"
      ]
     },
     "execution_count": 15,
     "metadata": {},
     "output_type": "execute_result"
    }
   ],
   "source": [
    "from wand.image import Image as WImage\n",
    "img = WImage(filename='camion.pdf')\n",
    "img"
   ]
  },
  {
   "cell_type": "markdown",
   "metadata": {},
   "source": [
    "In this figure we can calculate the $\\delta_1$, $\\delta_2$ using the Ackerman geometry as:\n",
    "\n",
    "$$\\tan(\\delta_{1}) = \\frac{a}{R_{H}-s/2}$$\n",
    "$$\\tan(\\delta_{2}) = \\frac{a}{R_{H}+s/2}$$\n",
    "$$\\tan(\\delta_{M}) = \\frac{a}{R_{H}}$$"
   ]
  },
  {
   "cell_type": "code",
   "execution_count": 18,
   "metadata": {
    "collapsed": false
   },
   "outputs": [
    {
     "name": "stdout",
     "output_type": "stream",
     "text": [
      "RH [mm]:7912.42\n",
      "delta_2 [deg]:19.65\n"
     ]
    }
   ],
   "source": [
    "a = 3200\n",
    "b = 500\n",
    "c = 6500\n",
    "s = 2100\n",
    "delta_1 = 25*pi/180\n",
    "\n",
    "RH = a/tan(delta_1) + s/2\n",
    "print('RH [mm]:{0:.2f}'.format(RH))\n",
    "\n",
    "delta_2 = atan(a/(RH+s/2))*180/pi\n",
    "print('delta_2 [deg]:{0:.2f}'.format(delta_2))"
   ]
  },
  {
   "cell_type": "markdown",
   "metadata": {},
   "source": [
    "For the angle $\\kappa$ we can use the equation (obtained from the figure):\n",
    "\n",
    "$$\\sin(\\kappa) = \\frac{c\\cos(\\kappa)-b}{R_{H}\\cos(\\kappa) - b\\sin(\\kappa)}$$"
   ]
  },
  {
   "cell_type": "code",
   "execution_count": 34,
   "metadata": {
    "collapsed": false
   },
   "outputs": [
    {
     "data": {
      "text/plain": [
       "[-1.57079632679490, 0.898054717173097, 1.57079632679490, 2.11732220944064]"
      ]
     },
     "execution_count": 34,
     "metadata": {},
     "output_type": "execute_result"
    }
   ],
   "source": [
    "from __future__ import division\n",
    "import sympy as spy\n",
    "from sympy import Symbol\n",
    "x = Symbol('x')\n",
    "\n",
    "eq = spy.sin(x) - (c*spy.cos(x)-b)/(RH*spy.cos(x)-b*spy.sin(x))\n",
    "xsol = solve(eq, x)\n",
    "xsol"
   ]
  },
  {
   "cell_type": "markdown",
   "metadata": {},
   "source": [
    "For this values we can choose an angle between [0,90]deg, so:\n",
    "\n",
    "$$\\kappa = 0.898054717173097 \\, \\textrm{[rad]}$$ "
   ]
  },
  {
   "cell_type": "code",
   "execution_count": 37,
   "metadata": {
    "collapsed": false
   },
   "outputs": [
    {
     "name": "stdout",
     "output_type": "stream",
     "text": [
      "kappa [deg]:51.45\n"
     ]
    }
   ],
   "source": [
    "k = xsol[1]*180/pi\n",
    "print('kappa [deg]:{0:.2f}'.format(k))"
   ]
  },
  {
   "cell_type": "markdown",
   "metadata": {},
   "source": [
    "For the angle $R_{A}$ we can use the equation (obtained from the figure):\n",
    "\n",
    "$$ R_{A} = (R_{H}-b\\tan(\\kappa))\\cos(\\kappa) $$"
   ]
  },
  {
   "cell_type": "code",
   "execution_count": 42,
   "metadata": {
    "collapsed": false
   },
   "outputs": [
    {
     "name": "stdout",
     "output_type": "stream",
     "text": [
      "RA [mm]:4539.43\n"
     ]
    }
   ],
   "source": [
    "k = k*pi/180\n",
    "RA = (RH-b*tan(k))*cos(k)\n",
    "print('RA [mm]:{0:.2f}'.format(RA))"
   ]
  },
  {
   "cell_type": "markdown",
   "metadata": {},
   "source": [
    "The angles $\\alpha_5$ and $\\alpha_{10}$ are easy obtained by:\n",
    "\n",
    "$$ \\tan(\\alpha_5) = \\frac{1100}{R_{A}-s/2} $$\n",
    "$$ \\tan(\\alpha_{10}) = \\frac{1100}{R_{A}+s/2} $$"
   ]
  },
  {
   "cell_type": "code",
   "execution_count": 43,
   "metadata": {
    "collapsed": false
   },
   "outputs": [
    {
     "name": "stdout",
     "output_type": "stream",
     "text": [
      "alpha_5 [deg]:17.50\n",
      "alpha_10 [deg]:11.13\n"
     ]
    }
   ],
   "source": [
    "alp_5 = atan(1100/(RA-s/2))\n",
    "alp_10 = atan(1100/(RA+s/2))\n",
    "print('alpha_5 [deg]:{0:.2f}'.format(alp_5*180/pi))\n",
    "print('alpha_10 [deg]:{0:.2f}'.format(alp_10*180/pi))"
   ]
  }
 ],
 "metadata": {
  "kernelspec": {
   "display_name": "Python 2",
   "language": "python",
   "name": "python2"
  },
  "language_info": {
   "codemirror_mode": {
    "name": "ipython",
    "version": 2
   },
   "file_extension": ".py",
   "mimetype": "text/x-python",
   "name": "python",
   "nbconvert_exporter": "python",
   "pygments_lexer": "ipython2",
   "version": "2.7.10"
  }
 },
 "nbformat": 4,
 "nbformat_minor": 0
}
